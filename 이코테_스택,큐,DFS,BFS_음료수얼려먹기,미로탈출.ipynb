{
  "cells": [
    {
      "cell_type": "markdown",
      "metadata": {
        "id": "7kmJt5_zDVcD"
      },
      "source": [
        "# 1. 자료구조 기초\n",
        "- 탐색: 많은 양의 데이터 중 원하는 데이터를 찾는 과정\n",
        "- 자료구조: 데이터를 표현/관리/처리하기 위한 구조\n",
        "    - 스택/큐: 자료구조의 기초 개념, 다음의 두 함수로 구성됨\n",
        "        * 삽입(Push): 데이터를 삽입함\n",
        "        * 삭제(Pop): 데이터를 삭제함\n"
      ]
    },
    {
      "cell_type": "markdown",
      "metadata": {
        "id": "8mR0kyidDVcH"
      },
      "source": [
        " ## 1) 스택\n",
        "선입후출(FILO), 먼저 들어온 데이터가 나중에 나감\n",
        "\n",
        "프링글스 과자 통에 넣는다고 생각"
      ]
    },
    {
      "cell_type": "code",
      "execution_count": null,
      "metadata": {
        "colab": {
          "base_uri": "https://localhost:8080/"
        },
        "id": "ELtjzmGkDVcI",
        "outputId": "a0a2462a-3933-46ba-881e-ca146b6bad1d"
      },
      "outputs": [
        {
          "output_type": "stream",
          "name": "stdout",
          "text": [
            "[5, 2, 3, 1]\n",
            "[1, 3, 2, 5]\n"
          ]
        }
      ],
      "source": [
        "stack = []\n",
        "\n",
        "# 프링글스 과자 통에 넣는다고 생각,\n",
        "\n",
        "# 삽입(5) - 삽입(2) - 삽입(3) - 삽입(7) - 삭제() - 삽입(1) - 삽입(4) - 삭제()\n",
        "stack.append(5)\n",
        "stack.append(2)\n",
        "stack.append(3)\n",
        "stack.append(7)\n",
        "stack.pop() # 삭제\n",
        "stack.append(1)\n",
        "stack.append(4)\n",
        "stack.pop() # 삭제\n",
        "\n",
        "print(stack) # 아래부터 출력\n",
        "print(stack[::-1]) # 위부터 출력"
      ]
    },
    {
      "cell_type": "markdown",
      "metadata": {
        "id": "KAogIT3NDVcJ"
      },
      "source": [
        "## 2) 큐\n",
        "선입선출(FIFO), 먼저 들어온 데이터가 먼저 나감\n",
        "\n",
        "입구 출구 모두 뚫려있는 터널이라고 생각\n",
        "\n",
        "먼저 들어온 데이터가 오른쪽, 나중에 들어온 데이터가 왼쪽에 위치. 오른쪽부터 삭제됨"
      ]
    },
    {
      "cell_type": "code",
      "execution_count": null,
      "metadata": {
        "colab": {
          "base_uri": "https://localhost:8080/"
        },
        "id": "EM10azI5DVcK",
        "outputId": "84df8fcd-a8bd-430c-fa2d-7f37c988ed16"
      },
      "outputs": [
        {
          "output_type": "stream",
          "name": "stdout",
          "text": [
            "deque([3, 7, 1, 4])\n",
            "deque([4, 1, 7, 3])\n"
          ]
        }
      ],
      "source": [
        "from collections import deque  # 큐(Queue) 구현을 deque 라이브러리를 이용하는게 list 보다 우수함\n",
        "queue = deque()\n",
        "\n",
        "# 삽입(5) - 삽입(2) - 삽입(3) - 삽입(7) - 삭제() - 삽입(1) - 삽입(4) - 삭제()\n",
        "queue.append(5) # 오른쪽으로 들어옴 (실제방향)\n",
        "queue.append(2)\n",
        "queue.append(3)\n",
        "queue.append(7) # 7325\n",
        "queue.popleft()  # 732 # 왼쪽에 있는 데이터를 꺼냄. (실제순서)\n",
        "queue.append(1) \n",
        "queue.append(4) # 41732\n",
        "queue.popleft() # 4173\n",
        "\n",
        "print(queue) # 먼저 들어온 순서대로 출력\n",
        "queue.reverse() # 다음 출력을 위해 역순으로 바꾸기\n",
        "print(queue) # 나중에 들어온 원소부터 출력 (실제 순서)"
      ]
    },
    {
      "cell_type": "code",
      "execution_count": null,
      "metadata": {
        "id": "BQ4kJMxYDVcK",
        "outputId": "ba037bd7-831b-496c-c70a-79db8afd4322"
      },
      "outputs": [
        {
          "name": "stdout",
          "output_type": "stream",
          "text": [
            "['deque', 'defaultdict', 'namedtuple', 'UserDict', 'UserList', 'UserString', 'Counter', 'OrderedDict', 'ChainMap']\n"
          ]
        }
      ],
      "source": [
        "# import collections\n",
        "# print(collections.__all__)"
      ]
    },
    {
      "cell_type": "markdown",
      "metadata": {
        "id": "DeQ72IieDVcL"
      },
      "source": [
        "## 재귀함수\n",
        "- 자기 자신을 다시 호출하는 함수\n",
        "- 모든 재귀함수는 반복문을 이용하여 동일한 기능을 구현할 수 있으나, 경우에 따라 불리할 수도 유리할 수도 있다.\n",
        "- 스택을 사용해야 할 때 구현상 스택 대신 재귀함수를 이용하는 경우가 많음. "
      ]
    },
    {
      "cell_type": "code",
      "execution_count": null,
      "metadata": {
        "id": "GY-wBXxxDVcM"
      },
      "outputs": [],
      "source": [
        "# # 무한\n",
        "# def recursive_function():\n",
        "#     print('재귀 함수를 호출합니다.')\n",
        "#     recursive_function()\n",
        "\n",
        "# recursive_function()"
      ]
    },
    {
      "cell_type": "code",
      "execution_count": null,
      "metadata": {
        "id": "u5qu6ZdFDVcM",
        "outputId": "9c8cfb45-ab06-4fa2-d2f1-a9083b248f99"
      },
      "outputs": [
        {
          "name": "stdout",
          "output_type": "stream",
          "text": [
            "1 번째 재귀함수에서 2 번째 재귀함수를 호출합니다.\n",
            "2 번째 재귀함수에서 3 번째 재귀함수를 호출합니다.\n",
            "3 번째 재귀함수에서 4 번째 재귀함수를 호출합니다.\n",
            "4 번째 재귀함수에서 5 번째 재귀함수를 호출합니다.\n",
            "5 번째 재귀함수에서 6 번째 재귀함수를 호출합니다.\n",
            "6 번째 재귀함수에서 7 번째 재귀함수를 호출합니다.\n",
            "7 번째 재귀함수에서 8 번째 재귀함수를 호출합니다.\n",
            "8 번째 재귀함수에서 9 번째 재귀함수를 호출합니다.\n",
            "9 번째 재귀함수에서 10 번째 재귀함수를 호출합니다.\n",
            "10 번째 재귀함수에서 11 번째 재귀함수를 호출합니다.\n",
            "11 번째 재귀함수에서 12 번째 재귀함수를 호출합니다.\n",
            "12 번째 재귀함수에서 13 번째 재귀함수를 호출합니다.\n",
            "13 번째 재귀함수에서 14 번째 재귀함수를 호출합니다.\n",
            "14 번째 재귀함수에서 15 번째 재귀함수를 호출합니다.\n",
            "15 번째 재귀함수에서 16 번째 재귀함수를 호출합니다.\n",
            "16 번째 재귀함수에서 17 번째 재귀함수를 호출합니다.\n",
            "17 번째 재귀함수에서 18 번째 재귀함수를 호출합니다.\n",
            "18 번째 재귀함수에서 19 번째 재귀함수를 호출합니다.\n",
            "19 번째 재귀함수에서 20 번째 재귀함수를 호출합니다.\n",
            "20 번째 재귀함수에서 21 번째 재귀함수를 호출합니다.\n",
            "21 번째 재귀함수에서 22 번째 재귀함수를 호출합니다.\n",
            "22 번째 재귀함수에서 23 번째 재귀함수를 호출합니다.\n",
            "23 번째 재귀함수에서 24 번째 재귀함수를 호출합니다.\n",
            "24 번째 재귀함수에서 25 번째 재귀함수를 호출합니다.\n",
            "25 번째 재귀함수에서 26 번째 재귀함수를 호출합니다.\n",
            "26 번째 재귀함수에서 27 번째 재귀함수를 호출합니다.\n",
            "27 번째 재귀함수에서 28 번째 재귀함수를 호출합니다.\n",
            "28 번째 재귀함수에서 29 번째 재귀함수를 호출합니다.\n",
            "29 번째 재귀함수에서 30 번째 재귀함수를 호출합니다.\n",
            "30 번째 재귀함수에서 31 번째 재귀함수를 호출합니다.\n",
            "31 번째 재귀함수에서 32 번째 재귀함수를 호출합니다.\n",
            "32 번째 재귀함수에서 33 번째 재귀함수를 호출합니다.\n",
            "33 번째 재귀함수에서 34 번째 재귀함수를 호출합니다.\n",
            "34 번째 재귀함수에서 35 번째 재귀함수를 호출합니다.\n",
            "35 번째 재귀함수에서 36 번째 재귀함수를 호출합니다.\n",
            "36 번째 재귀함수에서 37 번째 재귀함수를 호출합니다.\n",
            "37 번째 재귀함수에서 38 번째 재귀함수를 호출합니다.\n",
            "38 번째 재귀함수에서 39 번째 재귀함수를 호출합니다.\n",
            "39 번째 재귀함수에서 40 번째 재귀함수를 호출합니다.\n",
            "40 번째 재귀함수에서 41 번째 재귀함수를 호출합니다.\n",
            "41 번째 재귀함수에서 42 번째 재귀함수를 호출합니다.\n",
            "42 번째 재귀함수에서 43 번째 재귀함수를 호출합니다.\n",
            "43 번째 재귀함수에서 44 번째 재귀함수를 호출합니다.\n",
            "44 번째 재귀함수에서 45 번째 재귀함수를 호출합니다.\n",
            "45 번째 재귀함수에서 46 번째 재귀함수를 호출합니다.\n",
            "46 번째 재귀함수에서 47 번째 재귀함수를 호출합니다.\n",
            "47 번째 재귀함수에서 48 번째 재귀함수를 호출합니다.\n",
            "48 번째 재귀함수에서 49 번째 재귀함수를 호출합니다.\n",
            "49 번째 재귀함수에서 50 번째 재귀함수를 호출합니다.\n",
            "50 번째 재귀함수에서 51 번째 재귀함수를 호출합니다.\n",
            "51 번째 재귀함수에서 52 번째 재귀함수를 호출합니다.\n",
            "52 번째 재귀함수에서 53 번째 재귀함수를 호출합니다.\n",
            "53 번째 재귀함수에서 54 번째 재귀함수를 호출합니다.\n",
            "54 번째 재귀함수에서 55 번째 재귀함수를 호출합니다.\n",
            "55 번째 재귀함수에서 56 번째 재귀함수를 호출합니다.\n",
            "56 번째 재귀함수에서 57 번째 재귀함수를 호출합니다.\n",
            "57 번째 재귀함수에서 58 번째 재귀함수를 호출합니다.\n",
            "58 번째 재귀함수에서 59 번째 재귀함수를 호출합니다.\n",
            "59 번째 재귀함수에서 60 번째 재귀함수를 호출합니다.\n",
            "60 번째 재귀함수에서 61 번째 재귀함수를 호출합니다.\n",
            "61 번째 재귀함수에서 62 번째 재귀함수를 호출합니다.\n",
            "62 번째 재귀함수에서 63 번째 재귀함수를 호출합니다.\n",
            "63 번째 재귀함수에서 64 번째 재귀함수를 호출합니다.\n",
            "64 번째 재귀함수에서 65 번째 재귀함수를 호출합니다.\n",
            "65 번째 재귀함수에서 66 번째 재귀함수를 호출합니다.\n",
            "66 번째 재귀함수에서 67 번째 재귀함수를 호출합니다.\n",
            "67 번째 재귀함수에서 68 번째 재귀함수를 호출합니다.\n",
            "68 번째 재귀함수에서 69 번째 재귀함수를 호출합니다.\n",
            "69 번째 재귀함수에서 70 번째 재귀함수를 호출합니다.\n",
            "70 번째 재귀함수에서 71 번째 재귀함수를 호출합니다.\n",
            "71 번째 재귀함수에서 72 번째 재귀함수를 호출합니다.\n",
            "72 번째 재귀함수에서 73 번째 재귀함수를 호출합니다.\n",
            "73 번째 재귀함수에서 74 번째 재귀함수를 호출합니다.\n",
            "74 번째 재귀함수에서 75 번째 재귀함수를 호출합니다.\n",
            "75 번째 재귀함수에서 76 번째 재귀함수를 호출합니다.\n",
            "76 번째 재귀함수에서 77 번째 재귀함수를 호출합니다.\n",
            "77 번째 재귀함수에서 78 번째 재귀함수를 호출합니다.\n",
            "78 번째 재귀함수에서 79 번째 재귀함수를 호출합니다.\n",
            "79 번째 재귀함수에서 80 번째 재귀함수를 호출합니다.\n",
            "80 번째 재귀함수에서 81 번째 재귀함수를 호출합니다.\n",
            "81 번째 재귀함수에서 82 번째 재귀함수를 호출합니다.\n",
            "82 번째 재귀함수에서 83 번째 재귀함수를 호출합니다.\n",
            "83 번째 재귀함수에서 84 번째 재귀함수를 호출합니다.\n",
            "84 번째 재귀함수에서 85 번째 재귀함수를 호출합니다.\n",
            "85 번째 재귀함수에서 86 번째 재귀함수를 호출합니다.\n",
            "86 번째 재귀함수에서 87 번째 재귀함수를 호출합니다.\n",
            "87 번째 재귀함수에서 88 번째 재귀함수를 호출합니다.\n",
            "88 번째 재귀함수에서 89 번째 재귀함수를 호출합니다.\n",
            "89 번째 재귀함수에서 90 번째 재귀함수를 호출합니다.\n",
            "90 번째 재귀함수에서 91 번째 재귀함수를 호출합니다.\n",
            "91 번째 재귀함수에서 92 번째 재귀함수를 호출합니다.\n",
            "92 번째 재귀함수에서 93 번째 재귀함수를 호출합니다.\n",
            "93 번째 재귀함수에서 94 번째 재귀함수를 호출합니다.\n",
            "94 번째 재귀함수에서 95 번째 재귀함수를 호출합니다.\n",
            "95 번째 재귀함수에서 96 번째 재귀함수를 호출합니다.\n",
            "96 번째 재귀함수에서 97 번째 재귀함수를 호출합니다.\n",
            "97 번째 재귀함수에서 98 번째 재귀함수를 호출합니다.\n",
            "98 번째 재귀함수에서 99 번째 재귀함수를 호출합니다.\n",
            "99 번째 재귀함수에서 100 번째 재귀함수를 호출합니다.\n",
            "99 번째 재귀함수를 종료합니다.\n",
            "98 번째 재귀함수를 종료합니다.\n",
            "97 번째 재귀함수를 종료합니다.\n",
            "96 번째 재귀함수를 종료합니다.\n",
            "95 번째 재귀함수를 종료합니다.\n",
            "94 번째 재귀함수를 종료합니다.\n",
            "93 번째 재귀함수를 종료합니다.\n",
            "92 번째 재귀함수를 종료합니다.\n",
            "91 번째 재귀함수를 종료합니다.\n",
            "90 번째 재귀함수를 종료합니다.\n",
            "89 번째 재귀함수를 종료합니다.\n",
            "88 번째 재귀함수를 종료합니다.\n",
            "87 번째 재귀함수를 종료합니다.\n",
            "86 번째 재귀함수를 종료합니다.\n",
            "85 번째 재귀함수를 종료합니다.\n",
            "84 번째 재귀함수를 종료합니다.\n",
            "83 번째 재귀함수를 종료합니다.\n",
            "82 번째 재귀함수를 종료합니다.\n",
            "81 번째 재귀함수를 종료합니다.\n",
            "80 번째 재귀함수를 종료합니다.\n",
            "79 번째 재귀함수를 종료합니다.\n",
            "78 번째 재귀함수를 종료합니다.\n",
            "77 번째 재귀함수를 종료합니다.\n",
            "76 번째 재귀함수를 종료합니다.\n",
            "75 번째 재귀함수를 종료합니다.\n",
            "74 번째 재귀함수를 종료합니다.\n",
            "73 번째 재귀함수를 종료합니다.\n",
            "72 번째 재귀함수를 종료합니다.\n",
            "71 번째 재귀함수를 종료합니다.\n",
            "70 번째 재귀함수를 종료합니다.\n",
            "69 번째 재귀함수를 종료합니다.\n",
            "68 번째 재귀함수를 종료합니다.\n",
            "67 번째 재귀함수를 종료합니다.\n",
            "66 번째 재귀함수를 종료합니다.\n",
            "65 번째 재귀함수를 종료합니다.\n",
            "64 번째 재귀함수를 종료합니다.\n",
            "63 번째 재귀함수를 종료합니다.\n",
            "62 번째 재귀함수를 종료합니다.\n",
            "61 번째 재귀함수를 종료합니다.\n",
            "60 번째 재귀함수를 종료합니다.\n",
            "59 번째 재귀함수를 종료합니다.\n",
            "58 번째 재귀함수를 종료합니다.\n",
            "57 번째 재귀함수를 종료합니다.\n",
            "56 번째 재귀함수를 종료합니다.\n",
            "55 번째 재귀함수를 종료합니다.\n",
            "54 번째 재귀함수를 종료합니다.\n",
            "53 번째 재귀함수를 종료합니다.\n",
            "52 번째 재귀함수를 종료합니다.\n",
            "51 번째 재귀함수를 종료합니다.\n",
            "50 번째 재귀함수를 종료합니다.\n",
            "49 번째 재귀함수를 종료합니다.\n",
            "48 번째 재귀함수를 종료합니다.\n",
            "47 번째 재귀함수를 종료합니다.\n",
            "46 번째 재귀함수를 종료합니다.\n",
            "45 번째 재귀함수를 종료합니다.\n",
            "44 번째 재귀함수를 종료합니다.\n",
            "43 번째 재귀함수를 종료합니다.\n",
            "42 번째 재귀함수를 종료합니다.\n",
            "41 번째 재귀함수를 종료합니다.\n",
            "40 번째 재귀함수를 종료합니다.\n",
            "39 번째 재귀함수를 종료합니다.\n",
            "38 번째 재귀함수를 종료합니다.\n",
            "37 번째 재귀함수를 종료합니다.\n",
            "36 번째 재귀함수를 종료합니다.\n",
            "35 번째 재귀함수를 종료합니다.\n",
            "34 번째 재귀함수를 종료합니다.\n",
            "33 번째 재귀함수를 종료합니다.\n",
            "32 번째 재귀함수를 종료합니다.\n",
            "31 번째 재귀함수를 종료합니다.\n",
            "30 번째 재귀함수를 종료합니다.\n",
            "29 번째 재귀함수를 종료합니다.\n",
            "28 번째 재귀함수를 종료합니다.\n",
            "27 번째 재귀함수를 종료합니다.\n",
            "26 번째 재귀함수를 종료합니다.\n",
            "25 번째 재귀함수를 종료합니다.\n",
            "24 번째 재귀함수를 종료합니다.\n",
            "23 번째 재귀함수를 종료합니다.\n",
            "22 번째 재귀함수를 종료합니다.\n",
            "21 번째 재귀함수를 종료합니다.\n",
            "20 번째 재귀함수를 종료합니다.\n",
            "19 번째 재귀함수를 종료합니다.\n",
            "18 번째 재귀함수를 종료합니다.\n",
            "17 번째 재귀함수를 종료합니다.\n",
            "16 번째 재귀함수를 종료합니다.\n",
            "15 번째 재귀함수를 종료합니다.\n",
            "14 번째 재귀함수를 종료합니다.\n",
            "13 번째 재귀함수를 종료합니다.\n",
            "12 번째 재귀함수를 종료합니다.\n",
            "11 번째 재귀함수를 종료합니다.\n",
            "10 번째 재귀함수를 종료합니다.\n",
            "9 번째 재귀함수를 종료합니다.\n",
            "8 번째 재귀함수를 종료합니다.\n",
            "7 번째 재귀함수를 종료합니다.\n",
            "6 번째 재귀함수를 종료합니다.\n",
            "5 번째 재귀함수를 종료합니다.\n",
            "4 번째 재귀함수를 종료합니다.\n",
            "3 번째 재귀함수를 종료합니다.\n",
            "2 번째 재귀함수를 종료합니다.\n",
            "1 번째 재귀함수를 종료합니다.\n"
          ]
        }
      ],
      "source": [
        "# 종료 조건: 실제 코딩테스트에서 필수적 \n",
        "def recursive_function(i):\n",
        "    if i == 100: # 100번째 호출을 했을 때 종료되도록 종료 조건 명시\n",
        "        return\n",
        "    print(i, '번째 재귀함수에서', i + 1, '번째 재귀함수를 호출합니다.') # 99 번째 재귀함수에서 100 번째 재귀함수를 호출합니다.\n",
        "    recursive_function(i + 1) # 100 - 조건 충족. \n",
        "    print(i, '번째 재귀함수를 종료합니다.') # 99 번째 재귀함수를 종료합니다.\n",
        "\n",
        "recursive_function(1) # 스택처럼 나중에 호출된 것부터 종료됨"
      ]
    },
    {
      "cell_type": "markdown",
      "metadata": {
        "id": "sSfpYNJLDVcN"
      },
      "source": [
        "### 팩토리얼 구현 예제"
      ]
    },
    {
      "cell_type": "code",
      "execution_count": null,
      "metadata": {
        "colab": {
          "base_uri": "https://localhost:8080/"
        },
        "id": "2mkedlM0DVcN",
        "outputId": "3ea7a72c-f0cb-415a-927e-833b549cf095"
      },
      "outputs": [
        {
          "output_type": "stream",
          "name": "stdout",
          "text": [
            "반복적으로 구현: 120\n"
          ]
        }
      ],
      "source": [
        "# 반복적으로 구현한 n!\n",
        "def factorial_iterative(n):        \n",
        "    result = 1\n",
        "    # 1부터 n까지의 수를 차례대로 곱하기\n",
        "    for i in range(1, n + 1):\n",
        "        result *= i\n",
        "    return result\n",
        "\n",
        "print('반복적으로 구현:', factorial_iterative(5))"
      ]
    },
    {
      "cell_type": "code",
      "source": [
        "# 재귀적으로 구현한 n!\n",
        "def factorial_recursive(n):        \n",
        "    if n < 1: # n이 1 이하인 경우 \n",
        "        return 1 # n! = 1\n",
        "    return n * factorial_recursive(n - 1) # n! = n * (n - 1)! 점화식\n",
        "print('재귀적으로 구현:', factorial_recursive(5))"
      ],
      "metadata": {
        "colab": {
          "base_uri": "https://localhost:8080/"
        },
        "id": "D_-GsYg_Idp5",
        "outputId": "d832fd29-afdc-4676-93ad-700e57e48474"
      },
      "execution_count": null,
      "outputs": [
        {
          "output_type": "stream",
          "name": "stdout",
          "text": [
            "재귀적으로 구현: 120\n"
          ]
        }
      ]
    },
    {
      "cell_type": "markdown",
      "metadata": {
        "id": "V_guA8ofJGYW"
      },
      "source": [
        "### 최대공약수 GCD 계산 (유클리드 호제법) 구현 예제\n",
        "* 유클리드 호제법: A & B의 최대공약수는, B & A%B의 최대공약수와 같다. "
      ]
    },
    {
      "cell_type": "code",
      "source": [
        "def gcd(a,b):\n",
        "  if a%b ==0:\n",
        "    return b\n",
        "  else:\n",
        "    return gcd(b,a%b)\n",
        "\n",
        "print(gcd(192,162))"
      ],
      "metadata": {
        "colab": {
          "base_uri": "https://localhost:8080/"
        },
        "id": "nmM8QkHzJPgl",
        "outputId": "146a323b-f8a0-48a6-beef-f3c22bd664cf"
      },
      "execution_count": null,
      "outputs": [
        {
          "output_type": "stream",
          "name": "stdout",
          "text": [
            "6\n"
          ]
        }
      ]
    },
    {
      "cell_type": "markdown",
      "metadata": {
        "id": "sgFVZ50PDVcO"
      },
      "source": [
        "# 2. 탐색 알고리즘 DFS/BFS\n",
        "\n",
        "- 그래프 기본 구조: 노드, 간선\n",
        "    - 그래프 표현 방식\n",
        "            * 인접 행렬: 2차원 배열로 그래프 연결관계 표현\n",
        "            * 인접 리스트: 리스트로  그래프 연결관계 표현\n",
        "\n",
        "## - DFS(깊이 우선 탐색): 멀리 있는 노드 우선 탐색\n",
        "- 스택이나 재귀함수 이용\n",
        "- 구현할 때 재귀함수 이용하는 게 좋음\n",
        "\n",
        "### 동작과정\n",
        "1. 탐색 시작 노드를 스택에 삽입하고 방문 처리\n",
        "2. 스택의 최상단 노드에, 방문하지 않은 노드가 하나라도 있으면 스택에 넣고 방문 처리 수행. 방문하지 않은 인접 노드가 없으면 스택에서 최상단 노드 꺼냄\n",
        "3. 2번을 수행할 수 없을때까지 수행."
      ]
    },
    {
      "cell_type": "code",
      "execution_count": null,
      "metadata": {
        "id": "MwDiDAW9DVcO",
        "outputId": "40a21e4b-ca5c-4c04-d770-6922c1e4e952"
      },
      "outputs": [
        {
          "name": "stdout",
          "output_type": "stream",
          "text": [
            "[[0, 7, 5], [7, 0, 999999999], [5, 999999999, 0]]\n"
          ]
        }
      ],
      "source": [
        "# 인접행렬\n",
        "\n",
        "INF = 999999999 # 무한의 비용 선언\n",
        "\n",
        "# 2차원 리스트를 이용해 인접 행렬 표현\n",
        "graph = [\n",
        "    [0, 7, 5],\n",
        "    [7, 0, INF],\n",
        "    [5, INF, 0]\n",
        "]\n",
        "\n",
        "print(graph)"
      ]
    },
    {
      "cell_type": "code",
      "execution_count": null,
      "metadata": {
        "id": "MFu3sRBYDVcP",
        "outputId": "4b677c3b-4723-4258-84f0-0513b44bbbc9"
      },
      "outputs": [
        {
          "name": "stdout",
          "output_type": "stream",
          "text": [
            "[[(1, 7), (2, 5)], [(0, 7)], [(0, 5)]]\n"
          ]
        }
      ],
      "source": [
        "# 인접 리스트\n",
        "\n",
        "graph = [[] for _ in range(3)] # 행(Row)이 3개인 2차원 리스트로 인접 리스트 표현\n",
        "\n",
        "# 노드 0에 연결된 노드 정보 저장 (노드, 거리)\n",
        "graph[0].append((1, 7))\n",
        "graph[0].append((2, 5))\n",
        "\n",
        "# 노드 1에 연결된 노드 정보 저장 (노드, 거리)\n",
        "graph[1].append((0, 7))\n",
        "\n",
        "# 노드 2에 연결된 노드 정보 저장 (노드, 거리)\n",
        "graph[2].append((0, 5))\n",
        "\n",
        "print(graph)"
      ]
    },
    {
      "cell_type": "code",
      "execution_count": null,
      "metadata": {
        "colab": {
          "base_uri": "https://localhost:8080/"
        },
        "id": "-Q2R08FgDVcP",
        "outputId": "0c2f105b-4f39-488b-9156-55dc910dec4f"
      },
      "outputs": [
        {
          "output_type": "stream",
          "name": "stdout",
          "text": [
            "1 2 7 6 8 3 4 5 "
          ]
        }
      ],
      "source": [
        "# 각 노드가 연결된 정보를 리스트 자료형으로 표현(2차원 리스트)\n",
        "graph = [\n",
        "  [],\n",
        "  [2, 3, 8], # 1번노드의 인접노드는 2,3,8\n",
        "  [1, 7],    # \n",
        "  [1, 4, 5],\n",
        "  [3, 5],\n",
        "  [3, 4],\n",
        "  [7],\n",
        "  [2, 6, 8],\n",
        "  [1, 7]\n",
        "]\n",
        "\n",
        "# 각 노드가 방문된 정보를 리스트 자료형으로 표현(1차원 리스트)\n",
        "visited = [False] * 9 # 모든 노드 미방문\n",
        "# DFS 함수 정의\n",
        "def dfs(graph, v, visited):\n",
        "    # 현재 노드를 방문 처리\n",
        "    visited[v] = True\n",
        "    print(v, end=' ')\n",
        "    # 현재 노드와 연결된 다른 노드를 재귀적으로 방문\n",
        "    for i in graph[v]:\n",
        "        if not visited[i]: # 미방문\n",
        "            dfs(graph, i, visited)\n",
        "\n",
        "# 정의된 DFS 함수 호출\n",
        "dfs(graph, 1, visited)"
      ]
    },
    {
      "cell_type": "markdown",
      "metadata": {
        "id": "wBnBCsjzDVcQ"
      },
      "source": [
        "## - BFS(너비 우선 탐색): 가까운 노드부터 탐색\n",
        "   - 큐 자료구조 사용\n",
        "   - deque 라이브러리 사용하는 게 좋음\n",
        "   - 실제 수행시간 DFS보다 좋은 편\n",
        "\n",
        "   ### 동작과정\n",
        "   1. 탐색 시작 노드 큐에 삽입하고 방문처리\n",
        "\n",
        "   2. 큐에서 노드를 꺼내고, 인접 노드 중 방문하지 않은 노드를 __모두 한번에__ 큐에 삽입하고 방문 처리\n",
        "\n",
        "   3. 2번의 과정을 수행할 수 없을 때까지 반복"
      ]
    },
    {
      "cell_type": "code",
      "execution_count": null,
      "metadata": {
        "colab": {
          "base_uri": "https://localhost:8080/"
        },
        "id": "vJ7knV0DDVcQ",
        "outputId": "935bafc0-bbe7-4221-a937-659be32645e7"
      },
      "outputs": [
        {
          "output_type": "stream",
          "name": "stdout",
          "text": [
            "1 2 3 8 7 4 5 6 "
          ]
        }
      ],
      "source": [
        "from collections import deque\n",
        "\n",
        "\n",
        "# 각 노드가 연결된 정보를 리스트 자료형으로 표현(2차원 리스트)\n",
        "graph = [\n",
        "  [],\n",
        "  [2, 3, 8],\n",
        "  [1, 7],\n",
        "  [1, 4, 5],\n",
        "  [3, 5],\n",
        "  [3, 4],\n",
        "  [7],\n",
        "  [2, 6, 8],\n",
        "  [1, 7]\n",
        "]\n",
        "\n",
        "# 각 노드가 방문된 정보를 리스트 자료형으로 표현(1차원 리스트)\n",
        "visited = [False] * 9\n",
        "\n",
        "# BFS 함수 정의\n",
        "def bfs(graph, start, visited):\n",
        "    # 큐(Queue) 구현을 위해 deque 라이브러리 사용\n",
        "    queue = deque([start])\n",
        "    # 현재 노드를 방문 처리\n",
        "    visited[start] = True\n",
        "    # 큐가 빌 때까지 반복\n",
        "    while queue:\n",
        "        # 큐에서 하나의 원소를 뽑아 출력\n",
        "        v = queue.popleft()\n",
        "        print(v, end=' ')\n",
        "        # 해당 원소와 연결된, 아직 방문하지 않은 원소들을 큐에 삽입\n",
        "        for i in graph[v]:\n",
        "            if not visited[i]:\n",
        "                queue.append(i)\n",
        "                visited[i] = True\n",
        "\n",
        "# 정의된 BFS 함수 호출\n",
        "bfs(graph, 1, visited)\n",
        "# 1-> 238(거리1) -> 745(거리2)-> 6(거리3) , 큐에는 745 남음"
      ]
    },
    {
      "cell_type": "markdown",
      "metadata": {
        "id": "a3gpGuxDDVcQ"
      },
      "source": [
        "# 문제1) 음료수 얼려먹기(DFS)\n",
        "- 연결 요소(인접한 노드 덩어리)의 수"
      ]
    },
    {
      "cell_type": "code",
      "source": [
        "# N, M을 공백을 기준으로 구분하여 입력 받기\n",
        "n, m = map(int, input().split())\n",
        "\n",
        "# 2차원 리스트의 맵 정보 입력 받기\n",
        "graph = []\n",
        "for i in range(n):\n",
        "    graph.append(list(map(int, input())))"
      ],
      "metadata": {
        "colab": {
          "base_uri": "https://localhost:8080/"
        },
        "id": "ypK3ySQdjah5",
        "outputId": "f86cddb4-d3e2-4a50-80f9-114b5f042581"
      },
      "execution_count": null,
      "outputs": [
        {
          "name": "stdout",
          "output_type": "stream",
          "text": [
            "4 5\n",
            "00110\n",
            "00011\n",
            "11111\n",
            "00000\n"
          ]
        }
      ]
    },
    {
      "cell_type": "code",
      "execution_count": null,
      "metadata": {
        "id": "fqhsO63BDVcR",
        "outputId": "90ed845e-72ae-4344-8727-3c46758595f5"
      },
      "outputs": [
        {
          "name": "stdout",
          "output_type": "stream",
          "text": [
            "4 5\n",
            "00110\n",
            "00011\n",
            "11111\n",
            "00000\n",
            "3\n"
          ]
        }
      ],
      "source": [
        "# DFS로 특정한 노드를 방문한 뒤에 연결된 모든 노드들도 방문\n",
        "def dfs(x, y):\n",
        "    # 주어진 범위를 벗어나는 경우에는 즉시 종료\n",
        "    if x <= -1 or x >= n or y <= -1 or y >= m:\n",
        "        return False\n",
        "    # 현재 노드를 아직 방문하지 않았다면\n",
        "    if graph[x][y] == 0:\n",
        "        # 해당 노드 방문 처리\n",
        "        graph[x][y] = 1 \n",
        "        # 상, 하, 좌, 우의 위치들도 모두 재귀적으로 호출, 연결된 모든 노드 방문처리\n",
        "        dfs(x - 1, y)\n",
        "        dfs(x, y - 1)\n",
        "        dfs(x + 1, y)\n",
        "        dfs(x, y + 1)\n",
        "        return True\n",
        "    return False\n",
        "\n",
        "# 모든 노드(위치)에 대하여 음료수 채우기\n",
        "result = 0\n",
        "for i in range(n):\n",
        "    for j in range(m):\n",
        "        # 현재 위치에서 DFS 수행\n",
        "        if dfs(i, j) == True:\n",
        "            result += 1\n",
        "\n",
        "print(result) # 정답 출력"
      ]
    },
    {
      "cell_type": "markdown",
      "metadata": {
        "id": "Rb8DHfz5DVcR"
      },
      "source": [
        "# 문제2) 미로탈출 (BFS)"
      ]
    },
    {
      "cell_type": "code",
      "execution_count": null,
      "metadata": {
        "id": "bkcw5kejDVcR",
        "outputId": "c0109089-2d50-4666-a4a9-0df8ea9f89de"
      },
      "outputs": [
        {
          "name": "stdout",
          "output_type": "stream",
          "text": [
            "5 6\n",
            "101010\n",
            "111111\n",
            "000001\n",
            "111111\n",
            "111111\n",
            "10\n"
          ]
        }
      ],
      "source": [
        "from collections import deque\n",
        "\n",
        "# N, M을 공백을 기준으로 구분하여 입력 받기\n",
        "n, m = map(int, input().split())\n",
        "# 2차원 리스트의 맵 정보 입력 받기\n",
        "graph = []\n",
        "for i in range(n):\n",
        "    graph.append(list(map(int, input())))\n",
        "\n",
        "# 이동할 네 가지 방향 정의 (상, 하, 좌, 우)\n",
        "dx = [-1, 1, 0, 0]\n",
        "dy = [0, 0, -1, 1]\n",
        "\n",
        "# BFS 소스코드 구현\n",
        "def bfs(x, y):\n",
        "    # 큐(Queue) 구현을 위해 deque 라이브러리 사용\n",
        "    queue = deque()\n",
        "    queue.append((x, y))\n",
        "    # 큐가 빌 때까지 반복하기\n",
        "    while queue:\n",
        "        x, y = queue.popleft()\n",
        "        # 현재 위치에서 4가지 방향으로의 위치 확인\n",
        "        for i in range(4):\n",
        "            nx = x + dx[i]\n",
        "            ny = y + dy[i]\n",
        "            # 미로 찾기 공간을 벗어난 경우 무시\n",
        "            if nx < 0 or nx >= n or ny < 0 or ny >= m:\n",
        "                continue\n",
        "            # 벽인 경우 무시\n",
        "            if graph[nx][ny] == 0:\n",
        "                continue\n",
        "            # 해당 노드를 처음 방문하는 경우에만 최단 거리 기록\n",
        "            if graph[nx][ny] == 1:\n",
        "                graph[nx][ny] = graph[x][y] + 1\n",
        "                queue.append((nx, ny))\n",
        "    # 가장 오른쪽 아래까지의 최단 거리 반환\n",
        "    return graph[n - 1][m - 1]\n",
        "\n",
        "# BFS를 수행한 결과 출력\n",
        "print(bfs(0, 0))"
      ]
    },
    {
      "cell_type": "code",
      "execution_count": null,
      "metadata": {
        "id": "AlGAVYYZDVcS"
      },
      "outputs": [],
      "source": [
        ""
      ]
    }
  ],
  "metadata": {
    "kernelspec": {
      "display_name": "Python 3",
      "language": "python",
      "name": "python3"
    },
    "language_info": {
      "codemirror_mode": {
        "name": "ipython",
        "version": 3
      },
      "file_extension": ".py",
      "mimetype": "text/x-python",
      "name": "python",
      "nbconvert_exporter": "python",
      "pygments_lexer": "ipython3",
      "version": "3.8.5"
    },
    "colab": {
      "name": "이코테_스택,큐,DFS,BFS_음료수얼려먹기,미로탈출.ipynb",
      "provenance": [],
      "collapsed_sections": [],
      "toc_visible": true
    }
  },
  "nbformat": 4,
  "nbformat_minor": 0
}