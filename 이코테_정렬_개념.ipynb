{
  "cells": [
    {
      "cell_type": "markdown",
      "metadata": {
        "id": "-F8ugTJZnoxf"
      },
      "source": [
        "# 정렬\n",
        "    - 연속된 데이터를 기준에 따라 순서대로 나열\n",
        "    - <이진 탐색> 유형의 전처리 과정\n",
        "\n",
        "\n",
        "## 1) 선택정렬\n",
        "    - 가장 원시적/기본적 + 비효율적\n",
        "    - 여러 개의 데이터 중 가장 작은 거  맨 앞 데이터랑 바꿈 -> 두번째로 작은 거 두번째 데이터랑 바꿈 -> ... \n",
        "    - 연산 횟수: N + (N-1) + (N-2)  + ... + 2 \n",
        "    - 시간 복잡도: O(N^2)\n",
        "    - 기본 정렬 라이브러리 포함 삽입정렬, 퀵정렬보다 비효율적이나, 특정한 리스트에서 가장 작은 데이터를 찾는 일은 빈번하기 때문에 선택정렬 소스코드에도 익숙해져야 함"
      ]
    },
    {
      "cell_type": "code",
      "execution_count": 1,
      "metadata": {
        "colab": {
          "base_uri": "https://localhost:8080/"
        },
        "id": "tTLa3egYnoxn",
        "outputId": "ea45ecca-47eb-4675-ed91-9932599b1c76"
      },
      "outputs": [
        {
          "output_type": "stream",
          "name": "stdout",
          "text": [
            "[0, 1, 2, 3, 4, 5, 6, 7, 8, 9]\n"
          ]
        }
      ],
      "source": [
        "# 선택정렬\n",
        "array = [7,5,9,0,3,1,6,2,4,8]\n",
        "\n",
        "for i in range(len(array)):\n",
        "    min_s_index = i # 가장 작은 원소의 인덱스\n",
        "    for j in range(i+1, len(array)):\n",
        "        if array[min_s_index] > array[j]: # array[i] > array[j]\n",
        "            min_s_index = j\n",
        "    array[i], array[min_s_index] = array[min_s_index], array[i] # 스와프 (i번째로 작은 값 <-> 배열의 i번째 값과 자리 바꾸기)\n",
        "print(array)"
      ]
    },
    {
      "cell_type": "code",
      "execution_count": 2,
      "metadata": {
        "colab": {
          "base_uri": "https://localhost:8080/"
        },
        "id": "l_0EwI79noxq",
        "outputId": "2457c40e-540f-4ca2-e5df-86c175f01de9"
      },
      "outputs": [
        {
          "output_type": "stream",
          "name": "stdout",
          "text": [
            "[5, 3]\n"
          ]
        }
      ],
      "source": [
        "# ref. 스와프\n",
        "array=[3,5]\n",
        "array[0], array[1] = array[1], array[0]\n",
        "\n",
        "print(array)"
      ]
    },
    {
      "cell_type": "markdown",
      "metadata": {
        "id": "3Rb_jsAHnoxs"
      },
      "source": [
        "## 2) 삽입정렬\n",
        "    - 데이터 하나씩 확인하면서 적절한 위치에 삽입\n",
        "    - 필요할 때만 위치를 바꿈, 데이터가 거의 정렬 되어 있을 때 특히 효율적\n",
        "    - 두번째부터 적절한 위치에 삽입하는 과정을 N-1번 반복\n",
        "    - 특징: 정렬이 이루어진 원소는 항상 오름차순 유지 "
      ]
    },
    {
      "cell_type": "code",
      "execution_count": null,
      "metadata": {
        "id": "nTqz0NlTnoxt",
        "outputId": "17c2e121-dda3-41ca-b05f-2828a4c64aee"
      },
      "outputs": [
        {
          "name": "stdout",
          "output_type": "stream",
          "text": [
            "[0, 1, 2, 3, 4, 5, 6, 7, 8, 9]\n"
          ]
        }
      ],
      "source": [
        "array = [7,5,9,0,3,1,6,2,4,8]\n",
        "for i in range(len(array)):\n",
        "    for j in range(i, 0, -1): # 인덱스 [i]부터 [0]까지 -1씩 감소하며 반복\n",
        "        if array[j] < array[j-1]: # 한 칸씩 왼쪽으로 이동\n",
        "            array[j], array[j-1] = array[j-1], array[j]\n",
        "        else: # 자기보다 작은 데이터를 만나면 그 위치에서 멈춤\n",
        "            break\n",
        "print(array)"
      ]
    },
    {
      "cell_type": "markdown",
      "metadata": {
        "id": "jFnAMXQ9noxu"
      },
      "source": [
        "## 3) ** 퀵 정렬 (가장 많이 씀)\n",
        "    - 기준 데이터를 설정하고, 그 기준보다 큰 데이터와 작은 데이터의 위치를 바꿈\n",
        "    - 교환하기 위한 기준: 피벗 설정 (호어 분할 등... )\n",
        "    - 호어 분할: 리스트의 첫번째 데이터를 피벗으로 정함\n",
        "    - 무작위로 섞여있을 땐 빠름 but 이미 데이터 정렬되어 있는 경우에는 느리게 동작 (삽입정렬과 반대)"
      ]
    },
    {
      "cell_type": "code",
      "execution_count": null,
      "metadata": {
        "id": "zhD5prRJnoxv",
        "outputId": "f2a7f4e5-d83d-4528-db4c-b6d794a9bfcd"
      },
      "outputs": [
        {
          "name": "stdout",
          "output_type": "stream",
          "text": [
            "[0, 1, 2, 3, 4, 5, 6, 7, 8, 9]\n"
          ]
        }
      ],
      "source": [
        "array = [5, 7, 9, 0, 3, 1, 6, 2, 4, 8]\n",
        "\n",
        "def quick_sort(array, start, end):\n",
        "    if start >= end: # 원소가 1개인 경우 종료\n",
        "        return\n",
        "    pivot = start # 피벗은 첫 번째 원소\n",
        "    left = start + 1\n",
        "    right = end\n",
        "    while(left <= right):\n",
        "        # 피벗보다 큰 데이터를 찾을 때까지 반복 \n",
        "        while(left <= end and array[left] <= array[pivot]):\n",
        "            left += 1\n",
        "        # 피벗보다 작은 데이터를 찾을 때까지 반복\n",
        "        while(right > start and array[right] >= array[pivot]):\n",
        "            right -= 1\n",
        "        if(left > right): # 엇갈렸다면 작은 데이터와 피벗을 교체\n",
        "            array[right], array[pivot] = array[pivot], array[right]\n",
        "        else: # 엇갈리지 않았다면 작은 데이터와 큰 데이터를 교체\n",
        "            array[left], array[right] = array[right], array[left]\n",
        "    # 분할 이후 왼쪽 부분과 오른쪽 부분에서 각각 정렬 수행\n",
        "    quick_sort(array, start, right - 1)\n",
        "    quick_sort(array, right + 1, end)\n",
        "\n",
        "quick_sort(array, 0, len(array) - 1)\n",
        "print(array)"
      ]
    },
    {
      "cell_type": "code",
      "execution_count": null,
      "metadata": {
        "id": "pH8fKMM3noxw",
        "outputId": "3c2a10b4-6d8e-41f3-f169-78148679c35c"
      },
      "outputs": [
        {
          "name": "stdout",
          "output_type": "stream",
          "text": [
            "[0, 1, 2, 3, 4, 5, 6, 7, 8, 9]\n"
          ]
        }
      ],
      "source": [
        "array = [5, 7, 9, 0, 3, 1, 6, 2, 4, 8]\n",
        "\n",
        "def quick_sort(array):\n",
        "    # 리스트가 하나 이하의 원소만을 담고 있다면 종료\n",
        "    if len(array) <= 1:\n",
        "        return array\n",
        "\n",
        "    pivot = array[0] # 피벗은 첫 번째 원소\n",
        "    tail = array[1:] # 피벗을 제외한 리스트\n",
        "\n",
        "    left_side = [x for x in tail if x <= pivot] # 분할된 왼쪽 부분\n",
        "    right_side = [x for x in tail if x > pivot] # 분할된 오른쪽 부분\n",
        "\n",
        "    # 분할 이후 왼쪽 부분과 오른쪽 부분에서 각각 정렬을 수행하고, 전체 리스트를 반환\n",
        "    return quick_sort(left_side) + [pivot] + quick_sort(right_side)\n",
        "\n",
        "print(quick_sort(array))"
      ]
    },
    {
      "cell_type": "markdown",
      "metadata": {
        "id": "rqO-QUBcnoxx"
      },
      "source": [
        "## 4) 계수 정렬\n",
        "    - 특정한 조건이 부합할 때만 사용할 수 있지만 매우 빠름\n",
        "    - 데이터의 크기 범위가 제한되어 정수형태로 표현할 수 있을때만 사용 가능 (ex. 0-100 성적)"
      ]
    },
    {
      "cell_type": "code",
      "execution_count": null,
      "metadata": {
        "id": "02w-nHkunoxx",
        "outputId": "1e72638d-66b7-40e2-c4be-a223c9e2e648"
      },
      "outputs": [
        {
          "name": "stdout",
          "output_type": "stream",
          "text": [
            "0 0 1 1 2 2 3 4 5 5 6 7 8 9 9 "
          ]
        }
      ],
      "source": [
        "# 모든 원소의 값이 0보다 크거나 같다고 가정\n",
        "array = [7, 5, 9, 0, 3, 1, 6, 2, 9, 1, 4, 8, 0, 5, 2]\n",
        "# 모든 범위를 포함하는 리스트 선언 (모든 값은 0으로 초기화)\n",
        "count = [0] * (max(array) + 1)\n",
        "\n",
        "for i in range(len(array)):\n",
        "    count[array[i]] += 1 # 각 데이터에 해당하는 인덱스의 값 증가\n",
        "\n",
        "for i in range(len(count)): # 리스트에 기록된 정렬 정보 확인\n",
        "    for j in range(count[i]):\n",
        "        print(i, end=' ') # 띄어쓰기를 구분으로 등장한 횟수만큼 인덱스 출력"
      ]
    },
    {
      "cell_type": "markdown",
      "metadata": {
        "id": "ihDu5NSFnoxy"
      },
      "source": [
        "## 5) sorted(), sort()\n",
        "    - 기본 제공 라이브러리"
      ]
    },
    {
      "cell_type": "code",
      "execution_count": null,
      "metadata": {
        "id": "24ELtuBtnoxz",
        "outputId": "acf4f551-03b3-4494-c9b0-464ec9c608b7"
      },
      "outputs": [
        {
          "name": "stdout",
          "output_type": "stream",
          "text": [
            "[0, 1, 2, 3, 4, 5, 6, 7, 8, 9]\n"
          ]
        }
      ],
      "source": [
        "array = [7, 5, 9, 0, 3, 1, 6, 2, 4, 8]\n",
        "\n",
        "result = sorted(array)\n",
        "print(result)"
      ]
    },
    {
      "cell_type": "code",
      "execution_count": null,
      "metadata": {
        "id": "ODnPjRNAnox2",
        "outputId": "ea4d5afc-57d3-465c-a680-a0551957bd91"
      },
      "outputs": [
        {
          "name": "stdout",
          "output_type": "stream",
          "text": [
            "[0, 1, 2, 3, 4, 5, 6, 7, 8, 9]\n"
          ]
        }
      ],
      "source": [
        "array = [7, 5, 9, 0, 3, 1, 6, 2, 4, 8]\n",
        "\n",
        "array.sort()\n",
        "print(array)"
      ]
    },
    {
      "cell_type": "code",
      "execution_count": null,
      "metadata": {
        "id": "xXLKsGMpnox3",
        "outputId": "c2ea6fa2-8cc6-40d7-d351-8516b3c3fee3"
      },
      "outputs": [
        {
          "name": "stdout",
          "output_type": "stream",
          "text": [
            "[('바나나', 2), ('당근', 3), ('사과', 5)]\n"
          ]
        }
      ],
      "source": [
        "array = [('바나나', 2), ('사과', 5), ('당근', 3)]\n",
        "\n",
        "def setting(data):\n",
        "    return data[1]\n",
        "\n",
        "result = sorted(array, key=setting)\n",
        "print(result)"
      ]
    }
  ],
  "metadata": {
    "kernelspec": {
      "display_name": "Python 3",
      "language": "python",
      "name": "python3"
    },
    "language_info": {
      "codemirror_mode": {
        "name": "ipython",
        "version": 3
      },
      "file_extension": ".py",
      "mimetype": "text/x-python",
      "name": "python",
      "nbconvert_exporter": "python",
      "pygments_lexer": "ipython3",
      "version": "3.8.5"
    },
    "colab": {
      "name": "이코테_정렬_개념.ipynb",
      "provenance": [],
      "collapsed_sections": []
    }
  },
  "nbformat": 4,
  "nbformat_minor": 0
}